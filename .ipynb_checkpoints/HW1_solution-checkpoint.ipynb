{
 "cells": [
  {
   "cell_type": "code",
   "execution_count": 1,
   "metadata": {},
   "outputs": [],
   "source": [
    "import math\n",
    "import pandas as pd\n",
    "import matplotlib.pyplot as plt\n",
    "import numpy as np\n",
    "import scipy.stats\n",
    "import random"
   ]
  },
  {
   "cell_type": "markdown",
   "metadata": {},
   "source": [
    "### 1.\n",
    "- (a) For two integers n, m, calculate nCm.\n",
    "- (b) Evaluate 52C23"
   ]
  },
  {
   "cell_type": "code",
   "execution_count": 2,
   "metadata": {},
   "outputs": [
    {
     "data": {
      "text/plain": [
       "352870329957600.0"
      ]
     },
     "execution_count": 2,
     "metadata": {},
     "output_type": "execute_result"
    }
   ],
   "source": [
    "def MyCombination(n, m):\n",
    "    numer = math.factorial(n)\n",
    "    denom = math.factorial(m) * math.factorial(n-m)\n",
    "    return numer / denom\n",
    "\n",
    "MyCombination(52, 23)"
   ]
  },
  {
   "cell_type": "markdown",
   "metadata": {},
   "source": [
    "### 2. \n",
    "\n",
    "Save the following data in a csv file and find th e followings.\n",
    "\n",
    "LSAT, GPA\n",
    "- 576, 339\n",
    "- 635, 330\n",
    "- 558, 281\n",
    "- 578, 303\n",
    "- 666, 344\n",
    "- 580, 307\n",
    "- 555, 300\n",
    "- 661, 343"
   ]
  },
  {
   "cell_type": "markdown",
   "metadata": {},
   "source": [
    "(a) Print two lists of numbers stored in the csv file."
   ]
  },
  {
   "cell_type": "code",
   "execution_count": 3,
   "metadata": {},
   "outputs": [
    {
     "name": "stdout",
     "output_type": "stream",
     "text": [
      "[576, 635, 558, 578, 666, 580, 555, 661]\n",
      "[339, 330, 281, 303, 344, 307, 300, 343]\n"
     ]
    }
   ],
   "source": [
    "df = pd.read_csv('C:/Users/JIWON/Downloads/data.csv')\n",
    "print(df['LSAT'].to_list())\n",
    "print(df['GPA'].to_list())"
   ]
  },
  {
   "cell_type": "markdown",
   "metadata": {},
   "source": [
    "(b) Draw scatter plot of the two lists of numbers."
   ]
  },
  {
   "cell_type": "code",
   "execution_count": 4,
   "metadata": {
    "scrolled": true
   },
   "outputs": [
    {
     "data": {
      "image/png": "[encoded data removed]",
      "text/plain": [
       "<Figure size 432x288 with 1 Axes>"
      ]
     },
     "metadata": {
      "needs_background": "light"
     },
     "output_type": "display_data"
    }
   ],
   "source": [
    "# plt.plot(df['LSAT'], df['GPA'], 'o')\n",
    "plt.scatter(df['LSAT'], df['GPA'])\n",
    "plt.xlabel('LSAT')\n",
    "plt.ylabel('GPA')\n",
    "plt.title('Scatter plot of LSAT and GPA')\n",
    "plt.show()"
   ]
  },
  {
   "cell_type": "markdown",
   "metadata": {},
   "source": [
    "(c) Find correlation coefficient of the two lists of numbers."
   ]
  },
  {
   "cell_type": "code",
   "execution_count": 5,
   "metadata": {},
   "outputs": [
    {
     "name": "stdout",
     "output_type": "stream",
     "text": [
      "0.8032780125706327\n",
      "0.8032780125706327\n",
      "0.8032780125706328\n"
     ]
    }
   ],
   "source": [
    "print(df.corr().iloc[0, 1])\n",
    "print(np.corrcoef(df['LSAT'], df['GPA'])[0][1])\n",
    "print(scipy.stats.pearsonr(df['LSAT'], df['GPA'])[0])"
   ]
  },
  {
   "cell_type": "markdown",
   "metadata": {},
   "source": [
    "### 3.\n",
    "Note that a Geometric distributed random variable X with parameter p has its pmf 𝑝(𝑋=𝑘)=𝑝(1−𝑝)**(𝑘−1) ,𝑘=1,2…\n",
    "\n",
    "(a) Generate N random numbers of Geometric distribution with parameter p and verify that its sample mean is approximately equal to 1/p."
   ]
  },
  {
   "cell_type": "code",
   "execution_count": 6,
   "metadata": {},
   "outputs": [
    {
     "name": "stdout",
     "output_type": "stream",
     "text": [
      "2.7\n",
      "2.0\n",
      "2.049\n",
      "2.0045\n",
      "2.0\n"
     ]
    }
   ],
   "source": [
    "print(np.random.geometric(0.5, 10).mean())\n",
    "print(np.random.geometric(0.5, 100).mean())\n",
    "print(np.random.geometric(0.5, 1000).mean())\n",
    "print(np.random.geometric(0.5, 10000).mean())\n",
    "print(1 / 0.5)"
   ]
  },
  {
   "cell_type": "markdown",
   "metadata": {},
   "source": [
    "(b) Plot the graphs of pmf and cdf of Geometric distribution with parameter p=0.4."
   ]
  },
  {
   "cell_type": "code",
   "execution_count": 7,
   "metadata": {},
   "outputs": [
    {
     "data": {
      "image/png": "[encoded data removed]",
      "text/plain": [
       "<Figure size 432x288 with 1 Axes>"
      ]
     },
     "metadata": {
      "needs_background": "light"
     },
     "output_type": "display_data"
    }
   ],
   "source": [
    "def pmf_geom(p):\n",
    "    geom = [p*(1-p)**(i-1) for i in range(1, 11)]\n",
    "    plt.plot(range(1, 11), geom, 'o')\n",
    "    plt.vlines(range(1, 11), 0, geom)\n",
    "    plt.xlabel('k')\n",
    "    plt.ylabel('Prob')\n",
    "    plt.title('Pdf of geometric')\n",
    "    plt.show()\n",
    "    \n",
    "pmf_geom(0.4)"
   ]
  },
  {
   "cell_type": "code",
   "execution_count": 8,
   "metadata": {},
   "outputs": [
    {
     "data": {
      "image/png": "[encoded data removed]",
      "text/plain": [
       "<Figure size 432x288 with 1 Axes>"
      ]
     },
     "metadata": {
      "needs_background": "light"
     },
     "output_type": "display_data"
    }
   ],
   "source": [
    "def cdf_geom(p):\n",
    "    geom = [p*(1-p)**(i-1) for i in range(1, 11)]\n",
    "    temp = 0\n",
    "    geom_cum = []\n",
    "    for i in geom:\n",
    "        temp += i\n",
    "        geom_cum.append(temp)\n",
    "    plt.plot(range(1, 11), geom_cum, 'o')\n",
    "    plt.vlines(range(1, 11), 0, geom_cum)\n",
    "    plt.xlabel('k')\n",
    "    plt.ylabel('Prob')\n",
    "    plt.title('Cdf of geometric')\n",
    "    plt.show()\n",
    "    \n",
    "cdf_geom(0.4)"
   ]
  },
  {
   "cell_type": "markdown",
   "metadata": {},
   "source": [
    "You can also use `scipy.stats`"
   ]
  },
  {
   "cell_type": "markdown",
   "metadata": {},
   "source": [
    "### 4.\n",
    "Consider the following probability distribution.\n",
    "\n",
    "| numbers     | 0   | 1   | 2   | 3   | 4   | 5   | sum |\n",
    "|-------------|-----|-----|-----|-----|-----|-----|-----|\n",
    "| probability | 0.1 | 0.1 | 0.2 | 0.2 | 0.3 | 0.1 | 1   |\n",
    "\n",
    "(a) Generate 10000 random numbers with the probability distribution and make the frequency table in increasing order of numbers."
   ]
  },
  {
   "cell_type": "code",
   "execution_count": 9,
   "metadata": {},
   "outputs": [
    {
     "name": "stdout",
     "output_type": "stream",
     "text": [
      "numbers frequencies\n",
      "0 998\n",
      "1 976\n",
      "2 1984\n",
      "3 2028\n",
      "4 3049\n",
      "5 965\n"
     ]
    }
   ],
   "source": [
    "numbers = list(range(6))\n",
    "prob = [0.1, 0.1, 0.2, 0.2, 0.3, 0.1]\n",
    "\n",
    "sample = random.choices(numbers, prob, k=10000)\n",
    "freq = [sample.count(i) for i in set(sample)]\n",
    "\n",
    "print('numbers', 'frequencies')\n",
    "for i, j in zip(numbers, freq):\n",
    "    print(i, j)"
   ]
  },
  {
   "cell_type": "markdown",
   "metadata": {},
   "source": [
    "You can also use `Counter` library."
   ]
  },
  {
   "cell_type": "markdown",
   "metadata": {},
   "source": [
    "(b) Find mean of the 10000 random numbers and compare the theoretical mean of the probability distribution."
   ]
  },
  {
   "cell_type": "code",
   "execution_count": 10,
   "metadata": {},
   "outputs": [
    {
     "name": "stdout",
     "output_type": "stream",
     "text": [
      "2.8049\n",
      "2.8\n"
     ]
    }
   ],
   "source": [
    "print(np.mean(sample))\n",
    "print(0*0.1 + 1*0.1 + 2*0.2 + 3*0.2 + 4*0.3 + 5*0.1)"
   ]
  },
  {
   "cell_type": "markdown",
   "metadata": {},
   "source": [
    "(c) Plot the pie graph of the data in the frequency table in (a)."
   ]
  },
  {
   "cell_type": "code",
   "execution_count": 11,
   "metadata": {},
   "outputs": [
    {
     "data": {
      "image/png": "[encoded data removed]",
      "text/plain": [
       "<Figure size 432x288 with 1 Axes>"
      ]
     },
     "metadata": {},
     "output_type": "display_data"
    }
   ],
   "source": [
    "plt.pie(freq, labels=numbers, autopct='%1.1f%%', startangle=90)\n",
    "_ = plt.title('Sample distribution')"
   ]
  }
 ],
 "metadata": {
  "kernelspec": {
   "display_name": "[AI]",
   "language": "python",
   "name": "ai"
  },
  "language_info": {
   "codemirror_mode": {
    "name": "ipython",
    "version": 3
   },
   "file_extension": ".py",
   "mimetype": "text/x-python",
   "name": "python",
   "nbconvert_exporter": "python",
   "pygments_lexer": "ipython3",
   "version": "3.8.5"
  }
 },
 "nbformat": 4,
 "nbformat_minor": 4
}
