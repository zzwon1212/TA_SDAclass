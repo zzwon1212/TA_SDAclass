{
 "cells": [
  {
   "cell_type": "code",
   "execution_count": 1,
   "metadata": {},
   "outputs": [],
   "source": [
    "import numpy as np\n",
    "import math\n",
    "import scipy.stats\n",
    "import matplotlib.pyplot as plt\n",
    "import random"
   ]
  },
  {
   "cell_type": "markdown",
   "metadata": {},
   "source": [
    "### 1. \n",
    "Let X has gamma distribution.\n",
    "\\begin{align}\n",
    "X \\sim \\Gamma(\\alpha, \\beta) \\\\\n",
    "f(x) = \\frac{1}{(\\alpha - 1)! \\beta^{\\alpha}} x^{\\alpha - 1} e^{-x / \\beta}\n",
    "\\end{align}\n",
    "Plot CDF of gamma distribution with (alpha = 1, beta = 2), (3, 2), (5, 1)."
   ]
  },
  {
   "cell_type": "code",
   "execution_count": 2,
   "metadata": {},
   "outputs": [],
   "source": [
    "def CDFgamma(alpha, beta):\n",
    "    x = np.linspace(0, 12, 1001)\n",
    "    dx = 12 / 1000\n",
    "    numer = x**(alpha-1) * np.exp(-x/beta)\n",
    "    denom = math.factorial(alpha - 1) * beta**alpha\n",
    "    pdf = numer / denom\n",
    "    \n",
    "    temp = 0\n",
    "    cdf = []\n",
    "    for i in pdf:\n",
    "        temp += i * dx\n",
    "        cdf.append(temp)\n",
    "    \n",
    "    return cdf"
   ]
  },
  {
   "cell_type": "code",
   "execution_count": 3,
   "metadata": {},
   "outputs": [],
   "source": [
    "def CDFgamma2(alpha, beta):\n",
    "    cdf = scipy.stats.gamma.cdf(np.linspace(0, 12, 1001), a=alpha, scale=beta)\n",
    "    return cdf"
   ]
  },
  {
   "cell_type": "code",
   "execution_count": 4,
   "metadata": {},
   "outputs": [
    {
     "data": {
      "image/png": "[encoded data removed]",
      "text/plain": [
       "<Figure size 432x288 with 1 Axes>"
      ]
     },
     "metadata": {
      "needs_background": "light"
     },
     "output_type": "display_data"
    }
   ],
   "source": [
    "plt.plot(np.linspace(0, 12, 1001), CDFgamma(1, 2), label=r'$\\alpha=1, \\beta=2$')\n",
    "plt.plot(np.linspace(0, 12, 1001), CDFgamma(3, 2), label=r'$\\alpha=3, \\beta=2$')\n",
    "plt.plot(np.linspace(0, 12, 1001), CDFgamma(5, 1), label=r'$\\alpha=5, \\beta=1$')\n",
    "plt.legend()\n",
    "plt.xlabel('x')\n",
    "plt.ylabel('F(x)')\n",
    "_ = plt.title('CDF of Gamma distribution')"
   ]
  },
  {
   "cell_type": "markdown",
   "metadata": {},
   "source": [
    "### 2.\n",
    "Let \n",
    "\\begin{align}\n",
    "f(x) = \\frac{15}{16}(1-x^2)^2\\ with\\ support\\ |x| \\leq 1.\n",
    "\\end{align}\n",
    "Random variable with this pdf has mean 0. Find this RV's varaince using Riemann sum."
   ]
  },
  {
   "cell_type": "code",
   "execution_count": 5,
   "metadata": {},
   "outputs": [
    {
     "data": {
      "text/plain": [
       "0.14285714285414286"
      ]
     },
     "execution_count": 5,
     "metadata": {},
     "output_type": "execute_result"
    }
   ],
   "source": [
    "x = np.linspace(-1, 1, 1001)\n",
    "dx = 2 / 1000\n",
    "pdf = 15/16 * (1-x**2)**2\n",
    "(x**2 * pdf * dx).sum()"
   ]
  },
  {
   "cell_type": "markdown",
   "metadata": {},
   "source": [
    "### 3. \n",
    "Let X has exponential distribution.\n",
    "\\begin{align}\n",
    "f(x) = \\lambda e^{-\\lambda x},\\ for\\ x \\geq 0,\\ and\\ f(x) = 0\\ for\\ x < 0 \\\\\n",
    "F(x) = 1-e^{-\\lambda x},\\ for\\ x \\geq 0,\\ and\\ F(x) = 0\\ for\\ x < 0\n",
    "\\end{align}\n",
    "\n",
    "Inverse function of CDF of exponential distribution can be expressed as a single equation, since CDF of exponential distribution is bijection from [0, inf) to [0, 1]. Plot histogram with 1000 random numbers which follows exponential distribution with lambda = 1.5. using inverse function's equation of CDF. Find mean of these random numbers and compare the theoretical mean."
   ]
  },
  {
   "cell_type": "code",
   "execution_count": 6,
   "metadata": {},
   "outputs": [],
   "source": [
    "def inverse_cdf(q):\n",
    "    x = np.linspace(0, 100, 100001)\n",
    "    for i in x:\n",
    "        if 1 - np.exp(-1.5 * i) >= q:\n",
    "            return i"
   ]
  },
  {
   "cell_type": "code",
   "execution_count": 7,
   "metadata": {},
   "outputs": [
    {
     "data": {
      "image/png": "[encoded data removed]",
      "text/plain": [
       "<Figure size 432x288 with 1 Axes>"
      ]
     },
     "metadata": {
      "needs_background": "light"
     },
     "output_type": "display_data"
    }
   ],
   "source": [
    "rand_num = [inverse_cdf(random.uniform(0, 1)) for i in range(1000)]\n",
    "\n",
    "_ = plt.hist(rand_num, bins=20)"
   ]
  },
  {
   "cell_type": "code",
   "execution_count": 8,
   "metadata": {},
   "outputs": [
    {
     "name": "stdout",
     "output_type": "stream",
     "text": [
      "Mean of 1000 random numbers = 0.668052\n",
      "Mean of the theoretical     = 0.6666666666666666\n"
     ]
    }
   ],
   "source": [
    "print('Mean of 1000 random numbers =', np.mean(rand_num))\n",
    "print('Mean of the theoretical     =', 1/1.5)"
   ]
  },
  {
   "cell_type": "markdown",
   "metadata": {},
   "source": [
    "### 4.\n",
    "Let\n",
    "\\begin{align}\n",
    "X \\sim N(\\mu_{1}, \\sigma_{1}^2),\\ Y \\sim N(\\mu_{2}, \\sigma_{2}^2).\n",
    "\\end{align}\n",
    "\n",
    "If X and Y are independent, verify by drawing the histogram that\n",
    "\n",
    "\\begin{align}\n",
    "aX + bY \\sim N(a\\mu_{1} + b\\mu_{2}, a^2\\sigma_{1}^2 + b^2\\sigma_{2}^2).\n",
    "\\end{align}"
   ]
  },
  {
   "cell_type": "code",
   "execution_count": 9,
   "metadata": {},
   "outputs": [],
   "source": [
    "def plot_hist(mu1, sigma1, mu2, sigma2, a, b):\n",
    "    X = np.random.normal(mu1, sigma1, 10000)\n",
    "    Y = np.random.normal(mu2, sigma2, 10000)\n",
    "    Z = np.random.normal(a*mu1 + b*mu2, np.sqrt(a**2 * sigma1**2 + b**2 * sigma2**2), 10000)\n",
    "    plt.hist(a*X + b*Y, bins=15, alpha=0.7, color='skyblue')\n",
    "    plt.hist(Z, bins=15, alpha=0.7, color='pink')\n",
    "    plt.title(fr'$\\mu_{1}={mu1}, \\sigma_{1}={sigma1}$' + '\\n' +\n",
    "              fr'$\\mu_{2}={mu2}, \\sigma_{2}={sigma2}$' + '\\n' +\n",
    "              fr'$a={a}, b={b}$')\n",
    "    plt.show()"
   ]
  },
  {
   "cell_type": "code",
   "execution_count": 10,
   "metadata": {},
   "outputs": [
    {
     "data": {
      "image/png": "[encoded data removed]",
      "text/plain": [
       "<Figure size 432x288 with 1 Axes>"
      ]
     },
     "metadata": {
      "needs_background": "light"
     },
     "output_type": "display_data"
    }
   ],
   "source": [
    "plot_hist(1, 3, 6, 4, 1, 1)"
   ]
  },
  {
   "cell_type": "markdown",
   "metadata": {},
   "source": [
    "### 5.\n",
    "Let\n",
    "\\begin{align}\n",
    "X_{i} \\sim Bernoulli(p),\\ i=1,2,...,n.\n",
    "\\end{align}\n",
    "\n",
    "Generate random numbers and verify central limit theorem by plotting a histogram."
   ]
  },
  {
   "cell_type": "code",
   "execution_count": 11,
   "metadata": {},
   "outputs": [],
   "source": [
    "def CLT(p, n, N):\n",
    "    xbar_list = [np.mean([1 if np.random.uniform(0, 1) >= p else 0 for i in range(n)]) \n",
    "                 for j in range(N)]\n",
    "    xbar_list = (np.array(xbar_list) - p) / np.sqrt(p*(1-p)/n)\n",
    "    plt.hist(xbar_list, bins=15)\n",
    "    plt.show()"
   ]
  },
  {
   "cell_type": "code",
   "execution_count": 12,
   "metadata": {},
   "outputs": [
    {
     "data": {
      "image/png": "[encoded data removed]",
      "text/plain": [
       "<Figure size 432x288 with 1 Axes>"
      ]
     },
     "metadata": {
      "needs_background": "light"
     },
     "output_type": "display_data"
    }
   ],
   "source": [
    "CLT(0.5, 100, 1000)"
   ]
  },
  {
   "cell_type": "markdown",
   "metadata": {},
   "source": [
    "### 6.\n",
    "Let\n",
    "\\begin{align}\n",
    "X_{i} \\sim Exp(\\lambda),\\ i=1,2,...,n.\n",
    "\\end{align}\n",
    "\n",
    "Plot CDF and ECDF in the same figure. Verify ECDF approximately estimate CDF about very large sample size."
   ]
  },
  {
   "cell_type": "code",
   "execution_count": 13,
   "metadata": {},
   "outputs": [],
   "source": [
    "def indicator(X, x):\n",
    "    if X <= x:\n",
    "        return 1\n",
    "    else:\n",
    "        return 0"
   ]
  },
  {
   "cell_type": "code",
   "execution_count": 14,
   "metadata": {},
   "outputs": [],
   "source": [
    "def ECDF(n):\n",
    "    X = np.random.exponential(size=n)\n",
    "    Fn_list = []\n",
    "    for i in range(len(x)):\n",
    "        I_list = []\n",
    "        for j in range(len(X)):\n",
    "            I = indicator(X[j], x[i])\n",
    "            I_list.append(I)\n",
    "        Fn = sum(I_list) / n\n",
    "        Fn_list.append(Fn)\n",
    "    return Fn_list"
   ]
  },
  {
   "cell_type": "code",
   "execution_count": 15,
   "metadata": {},
   "outputs": [
    {
     "data": {
      "image/png": "[encoded data removed]",
      "text/plain": [
       "<Figure size 432x288 with 1 Axes>"
      ]
     },
     "metadata": {
      "needs_background": "light"
     },
     "output_type": "display_data"
    }
   ],
   "source": [
    "x = np.linspace(0, 4, 101)\n",
    "plt.plot(x, scipy.stats.expon.cdf(x), label='CDF')\n",
    "plt.plot(x, ECDF(1000), label='ECDF')\n",
    "plt.xlabel('x')\n",
    "plt.ylabel('F(x)')\n",
    "plt.legend()\n",
    "plt.show()"
   ]
  }
 ],
 "metadata": {
  "kernelspec": {
   "display_name": "Python 3",
   "language": "python",
   "name": "python3"
  },
  "language_info": {
   "codemirror_mode": {
    "name": "ipython",
    "version": 3
   },
   "file_extension": ".py",
   "mimetype": "text/x-python",
   "name": "python",
   "nbconvert_exporter": "python",
   "pygments_lexer": "ipython3",
   "version": "3.8.3"
  }
 },
 "nbformat": 4,
 "nbformat_minor": 4
}
