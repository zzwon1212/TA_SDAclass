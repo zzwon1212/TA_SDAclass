{
 "cells": [
  {
   "cell_type": "code",
   "execution_count": 1,
   "metadata": {},
   "outputs": [],
   "source": [
    "import pandas as pd\n",
    "import matplotlib.pyplot as plt\n",
    "import numpy as np\n",
    "from sklearn.linear_model import LinearRegression"
   ]
  },
  {
   "cell_type": "markdown",
   "metadata": {},
   "source": [
    "### 1.\n",
    "\n",
    "From the dataset 'HW3_data.csv', let $X_{t}=height,\\ Y_{t}=weight,\\ i=1,2,...,n$.\n",
    "\n",
    "(a) Draw scatter plot."
   ]
  },
  {
   "cell_type": "code",
   "execution_count": 2,
   "metadata": {},
   "outputs": [
    {
     "data": {
      "text/html": [
       "<div>\n",
       "<style scoped>\n",
       "    .dataframe tbody tr th:only-of-type {\n",
       "        vertical-align: middle;\n",
       "    }\n",
       "\n",
       "    .dataframe tbody tr th {\n",
       "        vertical-align: top;\n",
       "    }\n",
       "\n",
       "    .dataframe thead th {\n",
       "        text-align: right;\n",
       "    }\n",
       "</style>\n",
       "<table border=\"1\" class=\"dataframe\">\n",
       "  <thead>\n",
       "    <tr style=\"text-align: right;\">\n",
       "      <th></th>\n",
       "      <th>X</th>\n",
       "      <th>Y</th>\n",
       "    </tr>\n",
       "  </thead>\n",
       "  <tbody>\n",
       "    <tr>\n",
       "      <th>0</th>\n",
       "      <td>181</td>\n",
       "      <td>78</td>\n",
       "    </tr>\n",
       "    <tr>\n",
       "      <th>1</th>\n",
       "      <td>161</td>\n",
       "      <td>49</td>\n",
       "    </tr>\n",
       "    <tr>\n",
       "      <th>2</th>\n",
       "      <td>170</td>\n",
       "      <td>52</td>\n",
       "    </tr>\n",
       "    <tr>\n",
       "      <th>3</th>\n",
       "      <td>160</td>\n",
       "      <td>53</td>\n",
       "    </tr>\n",
       "    <tr>\n",
       "      <th>4</th>\n",
       "      <td>158</td>\n",
       "      <td>50</td>\n",
       "    </tr>\n",
       "  </tbody>\n",
       "</table>\n",
       "</div>"
      ],
      "text/plain": [
       "     X   Y\n",
       "0  181  78\n",
       "1  161  49\n",
       "2  170  52\n",
       "3  160  53\n",
       "4  158  50"
      ]
     },
     "execution_count": 2,
     "metadata": {},
     "output_type": "execute_result"
    }
   ],
   "source": [
    "df_1 = pd.read_csv('./data/HW3_data.csv', header=0, names=['X', 'Y'])\n",
    "df_1.head()"
   ]
  },
  {
   "cell_type": "code",
   "execution_count": 3,
   "metadata": {},
   "outputs": [
    {
     "data": {
      "image/png": "[encoded data removed]",
      "text/plain": [
       "<Figure size 432x288 with 1 Axes>"
      ]
     },
     "metadata": {
      "needs_background": "light"
     },
     "output_type": "display_data"
    }
   ],
   "source": [
    "plt.scatter(df_1.X, df_1.Y)\n",
    "plt.xlabel('height')\n",
    "plt.ylabel('weight')\n",
    "_ = plt.title('Scatter plot')"
   ]
  },
  {
   "cell_type": "markdown",
   "metadata": {},
   "source": [
    "(b) Compute correlation coefficient."
   ]
  },
  {
   "cell_type": "code",
   "execution_count": 4,
   "metadata": {},
   "outputs": [
    {
     "data": {
      "text/plain": [
       "0.7362765055636867"
      ]
     },
     "execution_count": 4,
     "metadata": {},
     "output_type": "execute_result"
    }
   ],
   "source": [
    "df_1.corr().to_numpy()[0, 1]"
   ]
  },
  {
   "cell_type": "markdown",
   "metadata": {},
   "source": [
    "(c) Estimate coefficient a of the following linear regression by OLSE:\n",
    "$$ Y_{i} = aX_{i} + \\epsilon_{i},\\ i=1,2,...,n $$\n",
    "and draw the regression graph together with scatter plot."
   ]
  },
  {
   "cell_type": "code",
   "execution_count": 5,
   "metadata": {},
   "outputs": [
    {
     "name": "stdout",
     "output_type": "stream",
     "text": [
      "a = 0.34871194785984383\n"
     ]
    }
   ],
   "source": [
    "# 1\n",
    "print('a =', np.dot(df_1.X.T, df_1.Y) / np.dot(df_1.X.T, df_1.X))"
   ]
  },
  {
   "cell_type": "code",
   "execution_count": 6,
   "metadata": {},
   "outputs": [
    {
     "name": "stdout",
     "output_type": "stream",
     "text": [
      "a = [0.34871195]\n"
     ]
    }
   ],
   "source": [
    "# 2\n",
    "lr_1_no = LinearRegression(fit_intercept=False).fit(df_1[['X']], df_1.Y)\n",
    "print('a =', lr_1_no.coef_)"
   ]
  },
  {
   "cell_type": "code",
   "execution_count": 7,
   "metadata": {},
   "outputs": [
    {
     "data": {
      "image/png": "[encoded data removed]",
      "text/plain": [
       "<Figure size 432x288 with 1 Axes>"
      ]
     },
     "metadata": {
      "needs_background": "light"
     },
     "output_type": "display_data"
    }
   ],
   "source": [
    "plt.scatter(df_1.X, df_1.Y)\n",
    "plt.plot(df_1.X, lr_1_no.predict(df_1[['X']]), color='r')\n",
    "plt.xlabel('height')\n",
    "plt.ylabel('weight')\n",
    "_ = plt.title('Linear regression without intercept')"
   ]
  },
  {
   "cell_type": "markdown",
   "metadata": {},
   "source": [
    "(d) Estimate coefficient a, b of the following linear regression by OLSE:\n",
    "$$ Y_{i} = b + aX_{i} + \\epsilon_{i},\\ i=1,2,...,n $$\n",
    "and draw the regression graph together with scatter plot."
   ]
  },
  {
   "cell_type": "code",
   "execution_count": 8,
   "metadata": {},
   "outputs": [
    {
     "name": "stdout",
     "output_type": "stream",
     "text": [
      "b = -100.78198435190583\n",
      "a = 0.9478894056707391\n"
     ]
    }
   ],
   "source": [
    "# 1\n",
    "a_1 = np.dot((df_1.X - df_1.X.mean()), df_1.Y - df_1.Y.mean()) / sum((df_1.X - df_1.X.mean())**2)\n",
    "b_1 = df_1.Y.mean() - a_1 * df_1.X.mean()\n",
    "print('b =', b_1)\n",
    "print('a =', a_1)"
   ]
  },
  {
   "cell_type": "code",
   "execution_count": 9,
   "metadata": {},
   "outputs": [
    {
     "name": "stdout",
     "output_type": "stream",
     "text": [
      "b = -100.78198435190583\n",
      "a = [0.94788941]\n"
     ]
    }
   ],
   "source": [
    "# 2\n",
    "lr_1_intercept = LinearRegression(fit_intercept=True).fit(df_1[['X']], df_1.Y)\n",
    "print('b =', lr_1_intercept.intercept_)\n",
    "print('a =', lr_1_intercept.coef_)"
   ]
  },
  {
   "cell_type": "code",
   "execution_count": 10,
   "metadata": {},
   "outputs": [
    {
     "data": {
      "image/png": "[encoded data removed]",
      "text/plain": [
       "<Figure size 432x288 with 1 Axes>"
      ]
     },
     "metadata": {
      "needs_background": "light"
     },
     "output_type": "display_data"
    }
   ],
   "source": [
    "plt.scatter(df_1.X, df_1.Y)\n",
    "plt.plot(df_1.X, lr_1_intercept.predict(df_1[['X']]), color='g')\n",
    "plt.xlabel('height')\n",
    "plt.ylabel('weight')\n",
    "_ = plt.title('Linear regression with intercept')"
   ]
  },
  {
   "cell_type": "markdown",
   "metadata": {},
   "source": [
    "(e) Among two regression results, which has less errors? Compute RMSE."
   ]
  },
  {
   "cell_type": "code",
   "execution_count": 11,
   "metadata": {},
   "outputs": [
    {
     "name": "stdout",
     "output_type": "stream",
     "text": [
      "RMSE of (c):  7.964656591064622\n",
      "RMSE of (d):  6.560207596629452\n"
     ]
    }
   ],
   "source": [
    "RMSE_1_no = np.sqrt(np.mean((df_1.Y - (lr_1_no.coef_ * df_1.X))**2))\n",
    "RMSE_1_intercept = np.sqrt(np.mean((df_1.Y - (lr_1_intercept.intercept_ + lr_1_intercept.coef_ * df_1.X))**2))\n",
    "print('RMSE of (c): ', RMSE_1_no)\n",
    "print('RMSE of (d): ', RMSE_1_intercept)"
   ]
  },
  {
   "cell_type": "markdown",
   "metadata": {},
   "source": [
    "(f) Draw two regression graphs in (c) and (d) with the scatter plot together on one plane."
   ]
  },
  {
   "cell_type": "code",
   "execution_count": 12,
   "metadata": {},
   "outputs": [
    {
     "data": {
      "image/png": "[encoded data removed]",
      "text/plain": [
       "<Figure size 432x288 with 1 Axes>"
      ]
     },
     "metadata": {
      "needs_background": "light"
     },
     "output_type": "display_data"
    }
   ],
   "source": [
    "plt.scatter(df_1.X, df_1.Y)\n",
    "plt.plot(df_1.X, lr_1_no.predict(df_1[['X']]), color='r')\n",
    "plt.plot(df_1.X, lr_1_intercept.predict(df_1[['X']]), color='g')\n",
    "plt.legend(labels=('(c)', '(d)'))\n",
    "plt.xlabel('height')\n",
    "plt.ylabel('weight')\n",
    "_ = plt.title('Two linear regression')"
   ]
  },
  {
   "cell_type": "markdown",
   "metadata": {},
   "source": [
    "### 2.\n",
    "\n",
    "From the dataset 'HW3_covid_USA.csv', consider bitcoin data. Let $X_{t}$ be the bitcoin data at first 60 days.\n",
    "\n",
    "(a) Using the following linear regression, estimate two parameters by the OLSE:\n",
    "$$X_{t} = b_{0} + b_{1}t + \\epsilon_{t}$$"
   ]
  },
  {
   "cell_type": "code",
   "execution_count": 13,
   "metadata": {
    "scrolled": false
   },
   "outputs": [
    {
     "data": {
      "text/html": [
       "<div>\n",
       "<style scoped>\n",
       "    .dataframe tbody tr th:only-of-type {\n",
       "        vertical-align: middle;\n",
       "    }\n",
       "\n",
       "    .dataframe tbody tr th {\n",
       "        vertical-align: top;\n",
       "    }\n",
       "\n",
       "    .dataframe thead th {\n",
       "        text-align: right;\n",
       "    }\n",
       "</style>\n",
       "<table border=\"1\" class=\"dataframe\">\n",
       "  <thead>\n",
       "    <tr style=\"text-align: right;\">\n",
       "      <th></th>\n",
       "      <th>date</th>\n",
       "      <th>bitcoin</th>\n",
       "      <th>covid</th>\n",
       "      <th>t</th>\n",
       "    </tr>\n",
       "  </thead>\n",
       "  <tbody>\n",
       "    <tr>\n",
       "      <th>0</th>\n",
       "      <td>20200120</td>\n",
       "      <td>8638.181440</td>\n",
       "      <td>5</td>\n",
       "      <td>0</td>\n",
       "    </tr>\n",
       "    <tr>\n",
       "      <th>1</th>\n",
       "      <td>20200121</td>\n",
       "      <td>8652.683763</td>\n",
       "      <td>0</td>\n",
       "      <td>1</td>\n",
       "    </tr>\n",
       "    <tr>\n",
       "      <th>2</th>\n",
       "      <td>20200122</td>\n",
       "      <td>8708.786013</td>\n",
       "      <td>0</td>\n",
       "      <td>2</td>\n",
       "    </tr>\n",
       "    <tr>\n",
       "      <th>3</th>\n",
       "      <td>20200123</td>\n",
       "      <td>8635.074357</td>\n",
       "      <td>0</td>\n",
       "      <td>3</td>\n",
       "    </tr>\n",
       "    <tr>\n",
       "      <th>4</th>\n",
       "      <td>20200124</td>\n",
       "      <td>8384.088777</td>\n",
       "      <td>1</td>\n",
       "      <td>4</td>\n",
       "    </tr>\n",
       "  </tbody>\n",
       "</table>\n",
       "</div>"
      ],
      "text/plain": [
       "       date      bitcoin  covid  t\n",
       "0  20200120  8638.181440      5  0\n",
       "1  20200121  8652.683763      0  1\n",
       "2  20200122  8708.786013      0  2\n",
       "3  20200123  8635.074357      0  3\n",
       "4  20200124  8384.088777      1  4"
      ]
     },
     "execution_count": 13,
     "metadata": {},
     "output_type": "execute_result"
    }
   ],
   "source": [
    "df_2 = pd.read_csv('./data/HW3_covid19_USA.csv')[:60]\n",
    "df_2['t'] = range(len(df_2))\n",
    "df_2.head()"
   ]
  },
  {
   "cell_type": "code",
   "execution_count": 14,
   "metadata": {},
   "outputs": [
    {
     "name": "stdout",
     "output_type": "stream",
     "text": [
      "b0 = 10051.474005958467\n",
      "b1 = -43.37664676751874\n"
     ]
    }
   ],
   "source": [
    "# 1\n",
    "b1 = np.dot((df_2.t - df_2.t.mean()), df_2.bitcoin - df_2.bitcoin.mean()) / sum((df_2.t - df_2.t.mean())**2)\n",
    "b0 = df_2.bitcoin.mean() - b1 * df_2.t.mean()\n",
    "print('b0 =', b0)\n",
    "print('b1 =', b1)"
   ]
  },
  {
   "cell_type": "code",
   "execution_count": 15,
   "metadata": {},
   "outputs": [
    {
     "name": "stdout",
     "output_type": "stream",
     "text": [
      "b0 = 10051.474005958467\n",
      "b1 = [-43.37664677]\n"
     ]
    }
   ],
   "source": [
    "# 2\n",
    "lr_2 = LinearRegression(fit_intercept=True).fit(df_2[['t']], df_2.bitcoin)\n",
    "print('b0 =', lr_2.intercept_)\n",
    "print('b1 =', lr_2.coef_)"
   ]
  },
  {
   "cell_type": "markdown",
   "metadata": {},
   "source": [
    "(b) Draw two graphs of $X_{t}$ and the estimated regression of the OLSE."
   ]
  },
  {
   "cell_type": "code",
   "execution_count": 16,
   "metadata": {},
   "outputs": [
    {
     "data": {
      "image/png": "[encoded data removed]",
      "text/plain": [
       "<Figure size 432x288 with 1 Axes>"
      ]
     },
     "metadata": {
      "needs_background": "light"
     },
     "output_type": "display_data"
    }
   ],
   "source": [
    "plt.plot(df_2.t, df_2.bitcoin)\n",
    "plt.plot(df_2.t, lr_2.predict(df_2[['t']]))\n",
    "plt.xlabel('t')\n",
    "plt.ylabel('bitcoin')\n",
    "_ = plt.title('OLSE')"
   ]
  },
  {
   "cell_type": "markdown",
   "metadata": {},
   "source": [
    "(c) Draw the graph of residuals."
   ]
  },
  {
   "cell_type": "code",
   "execution_count": 17,
   "metadata": {},
   "outputs": [
    {
     "data": {
      "image/png": "[encoded data removed]",
      "text/plain": [
       "<Figure size 432x288 with 1 Axes>"
      ]
     },
     "metadata": {
      "needs_background": "light"
     },
     "output_type": "display_data"
    }
   ],
   "source": [
    "plt.scatter(df_2.t, df_2.bitcoin - lr_2.predict(df_2[['t']]))\n",
    "plt.xlabel('t')\n",
    "plt.ylabel('residual')\n",
    "_ = plt.title('Residual plot')"
   ]
  },
  {
   "cell_type": "markdown",
   "metadata": {},
   "source": [
    "### 3.\n",
    "\n",
    "From the dataset 'HW3_covid_USA.csv', consider bitcoin data. Let $X_{t}$ be the bitcoin data at first 60 days.\n",
    "\n",
    "(a) Using the following linear regression, estimate two parameters by the OLSE:\n",
    "$$X_{t} = b_{0} + b_{1}t + b_{2}t^2 + \\epsilon_{t}$$"
   ]
  },
  {
   "cell_type": "code",
   "execution_count": 18,
   "metadata": {
    "scrolled": true
   },
   "outputs": [
    {
     "data": {
      "text/html": [
       "<div>\n",
       "<style scoped>\n",
       "    .dataframe tbody tr th:only-of-type {\n",
       "        vertical-align: middle;\n",
       "    }\n",
       "\n",
       "    .dataframe tbody tr th {\n",
       "        vertical-align: top;\n",
       "    }\n",
       "\n",
       "    .dataframe thead th {\n",
       "        text-align: right;\n",
       "    }\n",
       "</style>\n",
       "<table border=\"1\" class=\"dataframe\">\n",
       "  <thead>\n",
       "    <tr style=\"text-align: right;\">\n",
       "      <th></th>\n",
       "      <th>date</th>\n",
       "      <th>bitcoin</th>\n",
       "      <th>covid</th>\n",
       "      <th>t</th>\n",
       "      <th>t_square</th>\n",
       "    </tr>\n",
       "  </thead>\n",
       "  <tbody>\n",
       "    <tr>\n",
       "      <th>0</th>\n",
       "      <td>20200120</td>\n",
       "      <td>8638.181440</td>\n",
       "      <td>5</td>\n",
       "      <td>0</td>\n",
       "      <td>0</td>\n",
       "    </tr>\n",
       "    <tr>\n",
       "      <th>1</th>\n",
       "      <td>20200121</td>\n",
       "      <td>8652.683763</td>\n",
       "      <td>0</td>\n",
       "      <td>1</td>\n",
       "      <td>1</td>\n",
       "    </tr>\n",
       "    <tr>\n",
       "      <th>2</th>\n",
       "      <td>20200122</td>\n",
       "      <td>8708.786013</td>\n",
       "      <td>0</td>\n",
       "      <td>2</td>\n",
       "      <td>4</td>\n",
       "    </tr>\n",
       "    <tr>\n",
       "      <th>3</th>\n",
       "      <td>20200123</td>\n",
       "      <td>8635.074357</td>\n",
       "      <td>0</td>\n",
       "      <td>3</td>\n",
       "      <td>9</td>\n",
       "    </tr>\n",
       "    <tr>\n",
       "      <th>4</th>\n",
       "      <td>20200124</td>\n",
       "      <td>8384.088777</td>\n",
       "      <td>1</td>\n",
       "      <td>4</td>\n",
       "      <td>16</td>\n",
       "    </tr>\n",
       "  </tbody>\n",
       "</table>\n",
       "</div>"
      ],
      "text/plain": [
       "       date      bitcoin  covid  t  t_square\n",
       "0  20200120  8638.181440      5  0         0\n",
       "1  20200121  8652.683763      0  1         1\n",
       "2  20200122  8708.786013      0  2         4\n",
       "3  20200123  8635.074357      0  3         9\n",
       "4  20200124  8384.088777      1  4        16"
      ]
     },
     "execution_count": 18,
     "metadata": {},
     "output_type": "execute_result"
    }
   ],
   "source": [
    "df_3 = pd.read_csv('./data/HW3_covid19_USA.csv')[:60]\n",
    "df_3['t'] = range(len(df_3))\n",
    "df_3['t_square'] = df_3['t']**2\n",
    "df_3.head()"
   ]
  },
  {
   "cell_type": "code",
   "execution_count": 19,
   "metadata": {},
   "outputs": [
    {
     "name": "stdout",
     "output_type": "stream",
     "text": [
      "b0 = 7840.65595646319\n",
      "b1 = 185.32866869750433\n",
      "b2 = -3.876361279068135\n"
     ]
    }
   ],
   "source": [
    "# 1\n",
    "X = pd.DataFrame([pd.Series([1]*len(df_3)), df_3.t, df_3.t_square]).T\n",
    "coef = np.dot(np.linalg.inv(np.dot(X.T, X)), np.dot(X.T, df_3.bitcoin))\n",
    "print('b0 =', coef[0])\n",
    "print('b1 =', coef[1])\n",
    "print('b2 =', coef[2])"
   ]
  },
  {
   "cell_type": "code",
   "execution_count": 20,
   "metadata": {},
   "outputs": [
    {
     "name": "stdout",
     "output_type": "stream",
     "text": [
      "b0 = 7840.65595646327\n",
      "b1 = 185.32866869750168\n",
      "b2 = -3.8763612790681425\n"
     ]
    }
   ],
   "source": [
    "# 2\n",
    "lr_3 = LinearRegression(fit_intercept=True).fit(df_3[['t', 't_square']], df_3.bitcoin)\n",
    "print('b0 =', lr_3.intercept_)\n",
    "print('b1 =', lr_3.coef_[0])\n",
    "print('b2 =', lr_3.coef_[1])"
   ]
  },
  {
   "cell_type": "markdown",
   "metadata": {},
   "source": [
    "(b) Draw two graphs of $X_{t}$ and the estimated regression of the OLSE."
   ]
  },
  {
   "cell_type": "code",
   "execution_count": 21,
   "metadata": {
    "scrolled": true
   },
   "outputs": [
    {
     "data": {
      "image/png": "[encoded data removed]",
      "text/plain": [
       "<Figure size 432x288 with 1 Axes>"
      ]
     },
     "metadata": {
      "needs_background": "light"
     },
     "output_type": "display_data"
    }
   ],
   "source": [
    "plt.plot(df_3.t, df_3.bitcoin)\n",
    "plt.plot(df_3.t, lr_3.predict(df_3[['t', 't_square']]))\n",
    "plt.xlabel('t')\n",
    "plt.ylabel('bitcoin')\n",
    "_ = plt.title('OLSE')"
   ]
  },
  {
   "cell_type": "code",
   "execution_count": 22,
   "metadata": {},
   "outputs": [
    {
     "data": {
      "image/png": "[encoded data removed]",
      "text/plain": [
       "<Figure size 432x288 with 1 Axes>"
      ]
     },
     "metadata": {
      "needs_background": "light"
     },
     "output_type": "display_data"
    }
   ],
   "source": [
    "plt.scatter(df_3.t, df_3.bitcoin - lr_3.predict(df_3[['t', 't_square']]))\n",
    "plt.xlabel('t')\n",
    "plt.ylabel('residual')\n",
    "_ = plt.title('Residual plot')"
   ]
  },
  {
   "cell_type": "markdown",
   "metadata": {},
   "source": [
    "### 4.\n",
    "\n",
    "(a) Compute RMSE of estimated regression in Problem 2."
   ]
  },
  {
   "cell_type": "code",
   "execution_count": 23,
   "metadata": {},
   "outputs": [
    {
     "name": "stdout",
     "output_type": "stream",
     "text": [
      "RMSE of Problem 2:  1145.0210944129403\n"
     ]
    }
   ],
   "source": [
    "RMSE_2 = np.sqrt(np.mean((df_2.bitcoin - lr_2.predict(df_2[['t']]))**2))\n",
    "print('RMSE of Problem 2: ', RMSE_2)"
   ]
  },
  {
   "cell_type": "markdown",
   "metadata": {},
   "source": [
    "(b) Compute RMSE of estimated regression in Problem 3."
   ]
  },
  {
   "cell_type": "code",
   "execution_count": 24,
   "metadata": {},
   "outputs": [
    {
     "name": "stdout",
     "output_type": "stream",
     "text": [
      "RMSE of Problem 3:  480.30288701018753\n"
     ]
    }
   ],
   "source": [
    "RMSE_3 = np.sqrt(np.mean((df_3.bitcoin - lr_3.predict(df_3[['t', 't_square']]))**2))\n",
    "print('RMSE of Problem 3: ', RMSE_3)"
   ]
  },
  {
   "cell_type": "markdown",
   "metadata": {},
   "source": [
    "(c) Which is better among the two estimated regression in Problem 2 and 3?"
   ]
  },
  {
   "cell_type": "markdown",
   "metadata": {},
   "source": [
    "In terms of RMSE, the estimated regression in Problem 3 is better than that in Problem 2."
   ]
  }
 ],
 "metadata": {
  "kernelspec": {
   "display_name": "Python 3",
   "language": "python",
   "name": "python3"
  },
  "language_info": {
   "codemirror_mode": {
    "name": "ipython",
    "version": 3
   },
   "file_extension": ".py",
   "mimetype": "text/x-python",
   "name": "python",
   "nbconvert_exporter": "python",
   "pygments_lexer": "ipython3",
   "version": "3.8.3"
  }
 },
 "nbformat": 4,
 "nbformat_minor": 4
}
