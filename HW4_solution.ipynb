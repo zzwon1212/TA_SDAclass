{
 "cells": [
  {
   "cell_type": "code",
   "execution_count": 1,
   "metadata": {},
   "outputs": [],
   "source": [
    "import numpy as np\n",
    "from scipy.stats import t\n",
    "from scipy.optimize import minimize"
   ]
  },
  {
   "cell_type": "markdown",
   "metadata": {},
   "source": [
    "### 1.\n",
    "Use the Newton's method to find the root of $f(x)=x^3-9$."
   ]
  },
  {
   "cell_type": "code",
   "execution_count": 2,
   "metadata": {},
   "outputs": [
    {
     "name": "stdout",
     "output_type": "stream",
     "text": [
      "The root of given equation is 2.080083823051904\n"
     ]
    }
   ],
   "source": [
    "x = 100\n",
    "for i in range(100):\n",
    "    f = x**3 - 9\n",
    "    fprime = 3*x**2\n",
    "    x = x - f/fprime\n",
    "\n",
    "print('The root of given equation is', x)"
   ]
  },
  {
   "cell_type": "markdown",
   "metadata": {},
   "source": [
    "### 2.\n",
    "(a) Generate independent random sample $X_1, X_2,\\dots, X_n$ from $N(\\mu, \\sigma^2)$ of size $n=100$ with $\\mu=5, \\sigma^2=9$, and the find 95% confidence interval for $\\mu$ using t-distribution.\n",
    "\n",
    "(b) Repeat $N=500$ times Monte-Carlo experiment for (a) to find empirical coverage and average length of the 95% confidence intervals, simultaneously in one function of python coding.\n",
    "\n",
    "(c) For the sample of (a) above, find i.i.d bootstrap sample and compute bootstrap sample mean.\n",
    "\n",
    "(d) Repeat the bootstrap procedure $B=500$ times for (c) to obtain 95% bootstrap confidence interval for $\\mu$."
   ]
  },
  {
   "cell_type": "markdown",
   "metadata": {},
   "source": [
    "**(a)**"
   ]
  },
  {
   "cell_type": "code",
   "execution_count": 3,
   "metadata": {},
   "outputs": [
    {
     "name": "stdout",
     "output_type": "stream",
     "text": [
      "95% confidence interval for mu: [4.77, 5.97]\n"
     ]
    }
   ],
   "source": [
    "data = np.random.normal(loc=5, scale=3, size=100)\n",
    "X_bar = data.mean()\n",
    "sigma = data.std()\n",
    "lower = X_bar - t.ppf(q=0.975, df=99)*(sigma/np.sqrt(len(data)))\n",
    "upper = X_bar + t.ppf(q=0.975, df=99)*(sigma/np.sqrt(len(data)))\n",
    "print(f'95% confidence interval for mu: [{lower:.2f}, {upper:.2f}]')"
   ]
  },
  {
   "cell_type": "markdown",
   "metadata": {},
   "source": [
    "**(b)**"
   ]
  },
  {
   "cell_type": "code",
   "execution_count": 4,
   "metadata": {},
   "outputs": [],
   "source": [
    "def Montecarlo(mu, s, alpha, n, N):\n",
    "    cover = 0\n",
    "    length = []\n",
    "    for i in range(N):\n",
    "        data = np.random.normal(loc=mu, scale=s, size=n)\n",
    "        X_bar = data.mean()\n",
    "        simga = data.std()\n",
    "        lower = X_bar - t.ppf(q=1-alpha/2, df=99)*(sigma/np.sqrt(n))\n",
    "        upper = X_bar + t.ppf(q=1-alpha/2, df=99)*(simga/np.sqrt(n))\n",
    "\n",
    "        length.append(upper - lower)\n",
    "        if lower < 5 and upper > 5:\n",
    "            cover += 1\n",
    "    \n",
    "    empirical_coverage = cover/N\n",
    "    average_length = np.mean(length)\n",
    "\n",
    "    return empirical_coverage, average_length"
   ]
  },
  {
   "cell_type": "code",
   "execution_count": 5,
   "metadata": {},
   "outputs": [
    {
     "data": {
      "text/plain": [
       "(0.97, 1.1922105377237808)"
      ]
     },
     "execution_count": 5,
     "metadata": {},
     "output_type": "execute_result"
    }
   ],
   "source": [
    "Montecarlo(5, 3, 0.05, 100, 500)"
   ]
  },
  {
   "cell_type": "markdown",
   "metadata": {},
   "source": [
    "**(c)**"
   ]
  },
  {
   "cell_type": "code",
   "execution_count": 6,
   "metadata": {},
   "outputs": [
    {
     "data": {
      "text/plain": [
       "4.964533148129266"
      ]
     },
     "execution_count": 6,
     "metadata": {},
     "output_type": "execute_result"
    }
   ],
   "source": [
    "bootstrap = np.random.choice(data, size=100, replace=True)  # data in 2.(a)\n",
    "bootstrap.mean()"
   ]
  },
  {
   "cell_type": "markdown",
   "metadata": {},
   "source": [
    "**(d)**"
   ]
  },
  {
   "cell_type": "code",
   "execution_count": 7,
   "metadata": {},
   "outputs": [
    {
     "name": "stdout",
     "output_type": "stream",
     "text": [
      "95% bootstrap confidence interval for mu: [4.79, 5.96]\n"
     ]
    }
   ],
   "source": [
    "boot_means = []\n",
    "for i in range(500):\n",
    "    bootstrap = np.random.choice(data, size=100, replace=True)  # data in 2.(a)\n",
    "    boot_means.append(bootstrap.mean())\n",
    "    \n",
    "boot_means.sort()\n",
    "lower = boot_means[int(500*(0.05/2))]\n",
    "upper = boot_means[int(500*(1 - 0.05/2))]\n",
    "print(f'95% bootstrap confidence interval for mu: [{lower:.2f}, {upper:.2f}]')"
   ]
  },
  {
   "cell_type": "markdown",
   "metadata": {},
   "source": [
    "### 3.\n",
    "(a) Generate dependent random sample $X_1, X_2, \\dots, X_n$ of size $n=400$ satisfying\n",
    "$$X_t = 0.3 + 0.5X_{t-1} + \\epsilon_t,\\ t=1,2,\\dots,n\\ with\\ X_0=0$$\n",
    "where $\\epsilon_1, \\epsilon_2, \\dots, \\epsilon_n \\sim N(0,1)$. Find its mean.\n",
    "\n",
    "(b) Generate moving block bootstrap sample from (a) with block length $l=20, 40$ and find the means. Among the cases of $l=20, 40$, which is closer to the mean in (a)?\n",
    "\n",
    "(c) Generate stationary bootstrap sample from (a) with geometric parameter $p=0.05, 0.5$ and find means. Among the cases of $p=0.05, 0.5$, which is closer to the mean in (a)?"
   ]
  },
  {
   "cell_type": "markdown",
   "metadata": {},
   "source": [
    "**(a)**"
   ]
  },
  {
   "cell_type": "code",
   "execution_count": 8,
   "metadata": {},
   "outputs": [
    {
     "data": {
      "text/plain": [
       "0.4066032356113061"
      ]
     },
     "execution_count": 8,
     "metadata": {},
     "output_type": "execute_result"
    }
   ],
   "source": [
    "X = 0\n",
    "X_list = []\n",
    "for i in range(400):\n",
    "    X = 0.3 + 0.5*X + np.random.randn()\n",
    "    X_list.append(X)\n",
    "\n",
    "np.mean(X_list)"
   ]
  },
  {
   "cell_type": "markdown",
   "metadata": {},
   "source": [
    "**(b)**"
   ]
  },
  {
   "cell_type": "code",
   "execution_count": 9,
   "metadata": {},
   "outputs": [],
   "source": [
    "def moving_block_boot_sample(data, length):\n",
    "    blocks = int(len(data) / length)\n",
    "    start = np.random.choice(len(data)-length, size=blocks, replace=True)\n",
    "    sample = []\n",
    "    \n",
    "    for i in range(blocks):\n",
    "        sample += data[start[i]:start[i]+20]\n",
    "    \n",
    "    return np.mean(sample)"
   ]
  },
  {
   "cell_type": "code",
   "execution_count": 10,
   "metadata": {},
   "outputs": [
    {
     "name": "stdout",
     "output_type": "stream",
     "text": [
      "real_mean = 0.4066\n",
      "mean_20 = 0.4566\n",
      "mean_40 = 0.2982\n",
      "The case of l= is more closer to the real mean.\n"
     ]
    }
   ],
   "source": [
    "mean_20 = moving_block_boot_sample(X_list, 20)  # X_list in 3.(a)\n",
    "mean_40 = moving_block_boot_sample(X_list, 40)\n",
    "\n",
    "print(f'real_mean = {np.mean(X_list):.4f}')\n",
    "print(f'mean_20 = {mean_20:.4f}')\n",
    "print(f'mean_40 = {mean_40:.4f}')\n",
    "print('The case of l= is more closer to the real mean.')"
   ]
  },
  {
   "cell_type": "markdown",
   "metadata": {},
   "source": [
    "**(c)**"
   ]
  },
  {
   "cell_type": "code",
   "execution_count": 11,
   "metadata": {},
   "outputs": [],
   "source": [
    "def stationary_boot_sample(data, p):\n",
    "    N = 0\n",
    "    sample = []\n",
    "    \n",
    "    while N < len(data):\n",
    "        length = np.random.geometric(p)\n",
    "        if length >= len(data):\n",
    "            length = len(data) - 1\n",
    "        \n",
    "        start = np.random.choice(len(data)-length)\n",
    "        sample += data[start:start+length]\n",
    "        N += length\n",
    "        \n",
    "    sample = sample[:len(data)]\n",
    "    return np.mean(sample)"
   ]
  },
  {
   "cell_type": "code",
   "execution_count": 12,
   "metadata": {},
   "outputs": [
    {
     "name": "stdout",
     "output_type": "stream",
     "text": [
      "real_mean = 0.4066\n",
      "mean_05 = 0.4829\n",
      "mean_5 = 0.3333\n",
      "The case of p= is more closer to the real mean.\n"
     ]
    }
   ],
   "source": [
    "mean_05 = stationary_boot_sample(X_list, 0.05)  # X_list in 3.(a)\n",
    "mean_5 = stationary_boot_sample(X_list, 0.5)\n",
    "\n",
    "print(f'real_mean = {np.mean(X_list):.4f}')\n",
    "print(f'mean_05 = {mean_05:.4f}')\n",
    "print(f'mean_5 = {mean_5:.4f}')\n",
    "print('The case of p= is more closer to the real mean.')"
   ]
  },
  {
   "cell_type": "markdown",
   "metadata": {},
   "source": [
    "### 4.\n",
    "For the data in problem 3(a) above, we suppose that $a_0=0.3$ and $a_1=0.5$ are unknown in the regression $X_t = a_0 + a_1 X_{t-1} + \\epsilon_t$. Find estimates of the two parameters $(a_0, a_1)$ using the maximum likelihood estimates. Are your answers similar to the true values?"
   ]
  },
  {
   "cell_type": "code",
   "execution_count": 13,
   "metadata": {},
   "outputs": [],
   "source": [
    "x = np.array([0] + X_list[:len(X_list)-1])  # X_{t-1}: X_0, ..., X_399\n",
    "y = X_list  # X_{t}: X_1, ..., X_400\n",
    "n = len(x)\n",
    "\n",
    "def log_likelihood(parameters):\n",
    "    yhat = parameters[0] + parameters[1]*x\n",
    "    res = y - yhat\n",
    "    LL = -n/2*np.log(2*np.pi) - n*np.log(sigma) - 1/(2*sigma**2)*np.sum((res)**2)\n",
    "    return -LL"
   ]
  },
  {
   "cell_type": "code",
   "execution_count": 14,
   "metadata": {},
   "outputs": [
    {
     "name": "stdout",
     "output_type": "stream",
     "text": [
      "a0 = 0.21559593395467097, a1 = 0.47223054928978614\n",
      "MLE is similar to the true values(0.3, 0.5).\n"
     ]
    }
   ],
   "source": [
    "parameters = [0, 0, 1]\n",
    "estimates = minimize(log_likelihood, parameters).x\n",
    "print(f'a0 = {estimates[0]}, a1 = {estimates[1]}')\n",
    "print('MLE is similar to the true values(0.3, 0.5).')"
   ]
  }
 ],
 "metadata": {
  "kernelspec": {
   "display_name": "Python 3",
   "language": "python",
   "name": "python3"
  },
  "language_info": {
   "codemirror_mode": {
    "name": "ipython",
    "version": 3
   },
   "file_extension": ".py",
   "mimetype": "text/x-python",
   "name": "python",
   "nbconvert_exporter": "python",
   "pygments_lexer": "ipython3",
   "version": "3.8.3"
  }
 },
 "nbformat": 4,
 "nbformat_minor": 4
}
